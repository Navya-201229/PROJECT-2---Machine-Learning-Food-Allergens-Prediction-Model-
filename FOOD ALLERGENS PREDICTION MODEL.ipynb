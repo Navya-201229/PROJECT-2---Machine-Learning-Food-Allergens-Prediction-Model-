{
 "cells": [
  {
   "cell_type": "markdown",
   "id": "9b53bfe6",
   "metadata": {},
   "source": [
    "# Food Ingredients and Allergens Exploratoty Data Analysis"
   ]
  },
  {
   "cell_type": "code",
   "execution_count": 1,
   "id": "21f39667",
   "metadata": {},
   "outputs": [],
   "source": [
    "# importing all required libraries\n",
    "import pandas as pd\n",
    "import numpy as np\n",
    "import matplotlib.pyplot as plt\n",
    "import seaborn as sns\n",
    "import warnings\n",
    "warnings.filterwarnings('ignore')\n",
    "%matplotlib inline"
   ]
  },
  {
   "cell_type": "code",
   "execution_count": 3,
   "id": "f132014d",
   "metadata": {},
   "outputs": [],
   "source": [
    "# reading the csv file into a dataframe\n",
    "df=pd.read_csv('food_ingredients_and_allergens.csv')"
   ]
  },
  {
   "cell_type": "code",
   "execution_count": 4,
   "id": "6ae00a51",
   "metadata": {},
   "outputs": [
    {
     "data": {
      "text/html": [
       "<div>\n",
       "<style scoped>\n",
       "    .dataframe tbody tr th:only-of-type {\n",
       "        vertical-align: middle;\n",
       "    }\n",
       "\n",
       "    .dataframe tbody tr th {\n",
       "        vertical-align: top;\n",
       "    }\n",
       "\n",
       "    .dataframe thead th {\n",
       "        text-align: right;\n",
       "    }\n",
       "</style>\n",
       "<table border=\"1\" class=\"dataframe\">\n",
       "  <thead>\n",
       "    <tr style=\"text-align: right;\">\n",
       "      <th></th>\n",
       "      <th>Food Product</th>\n",
       "      <th>Main Ingredient</th>\n",
       "      <th>Sweetener</th>\n",
       "      <th>Fat/Oil</th>\n",
       "      <th>Seasoning</th>\n",
       "      <th>Allergens</th>\n",
       "      <th>Prediction</th>\n",
       "    </tr>\n",
       "  </thead>\n",
       "  <tbody>\n",
       "    <tr>\n",
       "      <th>0</th>\n",
       "      <td>Almond Cookies</td>\n",
       "      <td>Almonds</td>\n",
       "      <td>Sugar</td>\n",
       "      <td>Butter</td>\n",
       "      <td>Flour</td>\n",
       "      <td>Almonds, Wheat, Dairy</td>\n",
       "      <td>Contains</td>\n",
       "    </tr>\n",
       "    <tr>\n",
       "      <th>1</th>\n",
       "      <td>Almond Cookies</td>\n",
       "      <td>Almonds</td>\n",
       "      <td>Sugar</td>\n",
       "      <td>Butter</td>\n",
       "      <td>Flour</td>\n",
       "      <td>Almonds, Wheat, Dairy</td>\n",
       "      <td>Contains</td>\n",
       "    </tr>\n",
       "    <tr>\n",
       "      <th>2</th>\n",
       "      <td>Chicken Noodle Soup</td>\n",
       "      <td>Chicken broth</td>\n",
       "      <td>None</td>\n",
       "      <td>None</td>\n",
       "      <td>Salt</td>\n",
       "      <td>Chicken, Wheat, Celery</td>\n",
       "      <td>Contains</td>\n",
       "    </tr>\n",
       "    <tr>\n",
       "      <th>3</th>\n",
       "      <td>Chicken Noodle Soup</td>\n",
       "      <td>Chicken broth</td>\n",
       "      <td>None</td>\n",
       "      <td>None</td>\n",
       "      <td>Salt</td>\n",
       "      <td>Chicken, Wheat, Celery</td>\n",
       "      <td>Contains</td>\n",
       "    </tr>\n",
       "    <tr>\n",
       "      <th>4</th>\n",
       "      <td>Cheddar Cheese</td>\n",
       "      <td>Cheese</td>\n",
       "      <td>None</td>\n",
       "      <td>None</td>\n",
       "      <td>Salt</td>\n",
       "      <td>Dairy</td>\n",
       "      <td>Contains</td>\n",
       "    </tr>\n",
       "  </tbody>\n",
       "</table>\n",
       "</div>"
      ],
      "text/plain": [
       "          Food Product Main Ingredient Sweetener Fat/Oil Seasoning  \\\n",
       "0       Almond Cookies         Almonds     Sugar  Butter     Flour   \n",
       "1       Almond Cookies         Almonds     Sugar  Butter     Flour   \n",
       "2  Chicken Noodle Soup   Chicken broth      None    None      Salt   \n",
       "3  Chicken Noodle Soup   Chicken broth      None    None      Salt   \n",
       "4       Cheddar Cheese          Cheese      None    None      Salt   \n",
       "\n",
       "                Allergens Prediction  \n",
       "0   Almonds, Wheat, Dairy   Contains  \n",
       "1   Almonds, Wheat, Dairy   Contains  \n",
       "2  Chicken, Wheat, Celery   Contains  \n",
       "3  Chicken, Wheat, Celery   Contains  \n",
       "4                   Dairy   Contains  "
      ]
     },
     "execution_count": 4,
     "metadata": {},
     "output_type": "execute_result"
    }
   ],
   "source": [
    "# printing top five rows of dataframe\n",
    "df.head()"
   ]
  },
  {
   "cell_type": "markdown",
   "id": "7ba8a091",
   "metadata": {},
   "source": [
    "### Performing initial investigations on data so as to discover patterns,to spot anomalies,to test hypothesis and to check assumptions with the help of summary statistics and graphical representations"
   ]
  },
  {
   "cell_type": "code",
   "execution_count": 5,
   "id": "da6d1f38",
   "metadata": {},
   "outputs": [
    {
     "data": {
      "text/plain": [
       "Food Product       object\n",
       "Main Ingredient    object\n",
       "Sweetener          object\n",
       "Fat/Oil            object\n",
       "Seasoning          object\n",
       "Allergens          object\n",
       "Prediction         object\n",
       "dtype: object"
      ]
     },
     "execution_count": 5,
     "metadata": {},
     "output_type": "execute_result"
    }
   ],
   "source": [
    "# printing the datatypes of each column of dataframe\n",
    "df.dtypes"
   ]
  },
  {
   "cell_type": "code",
   "execution_count": 6,
   "id": "575e5e4c",
   "metadata": {},
   "outputs": [
    {
     "data": {
      "text/plain": [
       "<bound method DataFrame.info of             Food Product Main Ingredient Sweetener Fat/Oil       Seasoning  \\\n",
       "0         Almond Cookies         Almonds     Sugar  Butter           Flour   \n",
       "1         Almond Cookies         Almonds     Sugar  Butter           Flour   \n",
       "2    Chicken Noodle Soup   Chicken broth      None    None            Salt   \n",
       "3    Chicken Noodle Soup   Chicken broth      None    None            Salt   \n",
       "4         Cheddar Cheese          Cheese      None    None            Salt   \n",
       "..                   ...             ...       ...     ...             ...   \n",
       "394           Lemon Bars     Lemon juice     Sugar  Butter     Flour, eggs   \n",
       "395            Pecan Pie          Pecans     Sugar  Butter      Corn syrup   \n",
       "396       Zucchini Bread        Zucchini     Sugar  Butter  Cinnamon, nuts   \n",
       "397         Banana Bread         Bananas     Sugar  Butter  Cinnamon, nuts   \n",
       "398       Hawaiian Pizza     Pizza dough      None    None  Pineapple, ham   \n",
       "\n",
       "                  Allergens Prediction  \n",
       "0     Almonds, Wheat, Dairy   Contains  \n",
       "1     Almonds, Wheat, Dairy   Contains  \n",
       "2    Chicken, Wheat, Celery   Contains  \n",
       "3    Chicken, Wheat, Celery   Contains  \n",
       "4                     Dairy   Contains  \n",
       "..                      ...        ...  \n",
       "394      Wheat, Dairy, Eggs   Contains  \n",
       "395      Wheat, Dairy, Nuts   Contains  \n",
       "396      Wheat, Dairy, Nuts   Contains  \n",
       "397      Wheat, Dairy, Nuts   Contains  \n",
       "398      Wheat, Pork, Dairy   Contains  \n",
       "\n",
       "[399 rows x 7 columns]>"
      ]
     },
     "execution_count": 6,
     "metadata": {},
     "output_type": "execute_result"
    }
   ],
   "source": [
    "# printing information about a dataframe\n",
    "df.info"
   ]
  },
  {
   "cell_type": "code",
   "execution_count": 7,
   "id": "fe87ad72",
   "metadata": {},
   "outputs": [
    {
     "data": {
      "text/html": [
       "<div>\n",
       "<style scoped>\n",
       "    .dataframe tbody tr th:only-of-type {\n",
       "        vertical-align: middle;\n",
       "    }\n",
       "\n",
       "    .dataframe tbody tr th {\n",
       "        vertical-align: top;\n",
       "    }\n",
       "\n",
       "    .dataframe thead th {\n",
       "        text-align: right;\n",
       "    }\n",
       "</style>\n",
       "<table border=\"1\" class=\"dataframe\">\n",
       "  <thead>\n",
       "    <tr style=\"text-align: right;\">\n",
       "      <th></th>\n",
       "      <th>Food Product</th>\n",
       "      <th>Main Ingredient</th>\n",
       "      <th>Sweetener</th>\n",
       "      <th>Fat/Oil</th>\n",
       "      <th>Seasoning</th>\n",
       "      <th>Allergens</th>\n",
       "      <th>Prediction</th>\n",
       "    </tr>\n",
       "  </thead>\n",
       "  <tbody>\n",
       "    <tr>\n",
       "      <th>count</th>\n",
       "      <td>399</td>\n",
       "      <td>399</td>\n",
       "      <td>399</td>\n",
       "      <td>399</td>\n",
       "      <td>399</td>\n",
       "      <td>399</td>\n",
       "      <td>398</td>\n",
       "    </tr>\n",
       "    <tr>\n",
       "      <th>unique</th>\n",
       "      <td>259</td>\n",
       "      <td>101</td>\n",
       "      <td>10</td>\n",
       "      <td>36</td>\n",
       "      <td>186</td>\n",
       "      <td>40</td>\n",
       "      <td>2</td>\n",
       "    </tr>\n",
       "    <tr>\n",
       "      <th>top</th>\n",
       "      <td>Stuffed Bell Peppers</td>\n",
       "      <td>Chicken</td>\n",
       "      <td>None</td>\n",
       "      <td>Olive oil</td>\n",
       "      <td>None</td>\n",
       "      <td>None</td>\n",
       "      <td>Contains</td>\n",
       "    </tr>\n",
       "    <tr>\n",
       "      <th>freq</th>\n",
       "      <td>4</td>\n",
       "      <td>61</td>\n",
       "      <td>280</td>\n",
       "      <td>90</td>\n",
       "      <td>20</td>\n",
       "      <td>148</td>\n",
       "      <td>255</td>\n",
       "    </tr>\n",
       "  </tbody>\n",
       "</table>\n",
       "</div>"
      ],
      "text/plain": [
       "                Food Product Main Ingredient Sweetener    Fat/Oil Seasoning  \\\n",
       "count                    399             399       399        399       399   \n",
       "unique                   259             101        10         36       186   \n",
       "top     Stuffed Bell Peppers         Chicken      None  Olive oil      None   \n",
       "freq                       4              61       280         90        20   \n",
       "\n",
       "       Allergens Prediction  \n",
       "count        399        398  \n",
       "unique        40          2  \n",
       "top         None   Contains  \n",
       "freq         148        255  "
      ]
     },
     "execution_count": 7,
     "metadata": {},
     "output_type": "execute_result"
    }
   ],
   "source": [
    "# printing some basic statistical details of a dataframe\n",
    "df.describe()"
   ]
  },
  {
   "cell_type": "code",
   "execution_count": 8,
   "id": "e9f195ac",
   "metadata": {},
   "outputs": [
    {
     "data": {
      "text/plain": [
       "(399, 7)"
      ]
     },
     "execution_count": 8,
     "metadata": {},
     "output_type": "execute_result"
    }
   ],
   "source": [
    "# to print the dimensionality of the dataframe\n",
    "df.shape"
   ]
  },
  {
   "cell_type": "code",
   "execution_count": 19,
   "id": "d288bce6",
   "metadata": {},
   "outputs": [
    {
     "data": {
      "text/plain": [
       "<Axes: ylabel='Frequency'>"
      ]
     },
     "execution_count": 19,
     "metadata": {},
     "output_type": "execute_result"
    },
    {
     "data": {
      "image/png": "[encoded data removed]",
      "text/plain": [
       "<Figure size 640x480 with 1 Axes>"
      ]
     },
     "metadata": {},
     "output_type": "display_data"
    }
   ],
   "source": [
    "# bar plot of the 'value_counts' for the 'food product' Series\n",
    "df['Food Product'].value_counts().plot(kind='hist', color='g')"
   ]
  },
  {
   "cell_type": "code",
   "execution_count": 15,
   "id": "60224d32",
   "metadata": {},
   "outputs": [
    {
     "data": {
      "text/plain": [
       "<Axes: >"
      ]
     },
     "execution_count": 15,
     "metadata": {},
     "output_type": "execute_result"
    },
    {
     "data": {
      "image/png": "[encoded data removed]",
      "text/plain": [
       "<Figure size 640x480 with 1 Axes>"
      ]
     },
     "metadata": {},
     "output_type": "display_data"
    }
   ],
   "source": [
    "#Checking in the prediction column how many are true and how many are not\n",
    "df['Prediction'].value_counts().plot(kind='bar')"
   ]
  },
  {
   "cell_type": "code",
   "execution_count": 17,
   "id": "e58e4028",
   "metadata": {},
   "outputs": [
    {
     "data": {
      "text/plain": [
       "<Axes: xlabel='Prediction', ylabel='count'>"
      ]
     },
     "execution_count": 17,
     "metadata": {},
     "output_type": "execute_result"
    },
    {
     "data": {
      "image/png": "[encoded data removed]",
      "text/plain": [
       "<Figure size 640x480 with 1 Axes>"
      ]
     },
     "metadata": {},
     "output_type": "display_data"
    }
   ],
   "source": [
    "#analysing different categories of sweeteners in alleregens products and non allergens products\n",
    "sns.set_style('whitegrid')\n",
    "sns.countplot(x='Prediction',hue='Sweetener',data=df,palette='rainbow')"
   ]
  },
  {
   "cell_type": "code",
   "execution_count": 9,
   "id": "c845d53f",
   "metadata": {},
   "outputs": [
    {
     "data": {
      "text/plain": [
       "90"
      ]
     },
     "execution_count": 9,
     "metadata": {},
     "output_type": "execute_result"
    }
   ],
   "source": [
    "# to find duplicate rows from in dataframe\n",
    "sum(df.duplicated())"
   ]
  },
  {
   "cell_type": "code",
   "execution_count": 10,
   "id": "ba34b987",
   "metadata": {},
   "outputs": [
    {
     "data": {
      "text/plain": [
       "(309, 7)"
      ]
     },
     "execution_count": 10,
     "metadata": {},
     "output_type": "execute_result"
    }
   ],
   "source": [
    "# removing duplicates from dataframe\n",
    "df.drop_duplicates(inplace=True)\n",
    "df.shape"
   ]
  },
  {
   "cell_type": "code",
   "execution_count": 11,
   "id": "7176e0ae",
   "metadata": {},
   "outputs": [
    {
     "data": {
      "text/plain": [
       "Food Product       0\n",
       "Main Ingredient    0\n",
       "Sweetener          0\n",
       "Fat/Oil            0\n",
       "Seasoning          0\n",
       "Allergens          0\n",
       "Prediction         1\n",
       "dtype: int64"
      ]
     },
     "execution_count": 11,
     "metadata": {},
     "output_type": "execute_result"
    }
   ],
   "source": [
    "# printing the number of missing values in each column\n",
    "df.isna().sum()"
   ]
  },
  {
   "cell_type": "code",
   "execution_count": 18,
   "id": "65fba986",
   "metadata": {},
   "outputs": [
    {
     "data": {
      "text/plain": [
       "<Axes: >"
      ]
     },
     "execution_count": 18,
     "metadata": {},
     "output_type": "execute_result"
    },
    {
     "data": {
      "image/png": "[encoded data removed]",
      "text/plain": [
       "<Figure size 640x480 with 1 Axes>"
      ]
     },
     "metadata": {},
     "output_type": "display_data"
    }
   ],
   "source": [
    "#finding the null values in each series of dataframe using heatmap\n",
    "sns.heatmap(df.isnull(),yticklabels=False,cbar=False,cmap='viridis')"
   ]
  },
  {
   "cell_type": "code",
   "execution_count": 12,
   "id": "053e045e",
   "metadata": {},
   "outputs": [
    {
     "data": {
      "text/plain": [
       "(308, 7)"
      ]
     },
     "execution_count": 12,
     "metadata": {},
     "output_type": "execute_result"
    }
   ],
   "source": [
    "# droping the missing values present in the dataframe\n",
    "df.dropna(inplace=True)\n",
    "df.shape"
   ]
  },
  {
   "cell_type": "code",
   "execution_count": 13,
   "id": "a0e4ac61",
   "metadata": {},
   "outputs": [
    {
     "data": {
      "text/plain": [
       "Index(['Food Product', 'Main Ingredient', 'Sweetener', 'Fat/Oil', 'Seasoning',\n",
       "       'Allergens', 'Prediction'],\n",
       "      dtype='object')"
      ]
     },
     "execution_count": 13,
     "metadata": {},
     "output_type": "execute_result"
    }
   ],
   "source": [
    "# listing the columns of dataframe\n",
    "df.columns"
   ]
  },
  {
   "cell_type": "markdown",
   "id": "b62c6995",
   "metadata": {},
   "source": [
    "### Cleaning the data by removing missing values, duplicates and now converting the categorical columns into numerical columns using one hot encoder"
   ]
  },
  {
   "cell_type": "code",
   "execution_count": 29,
   "id": "b46c3dfa",
   "metadata": {},
   "outputs": [
    {
     "data": {
      "text/html": [
       "<div>\n",
       "<style scoped>\n",
       "    .dataframe tbody tr th:only-of-type {\n",
       "        vertical-align: middle;\n",
       "    }\n",
       "\n",
       "    .dataframe tbody tr th {\n",
       "        vertical-align: top;\n",
       "    }\n",
       "\n",
       "    .dataframe thead th {\n",
       "        text-align: right;\n",
       "    }\n",
       "</style>\n",
       "<table border=\"1\" class=\"dataframe\">\n",
       "  <thead>\n",
       "    <tr style=\"text-align: right;\">\n",
       "      <th></th>\n",
       "      <th>Food Product_Aloo Gobi</th>\n",
       "      <th>Food Product_Aloo Paratha</th>\n",
       "      <th>Food Product_Apple</th>\n",
       "      <th>Food Product_Apple Cider</th>\n",
       "      <th>Food Product_Apple Crisp</th>\n",
       "      <th>Food Product_Apple Pie</th>\n",
       "      <th>Food Product_Avocado Toast</th>\n",
       "      <th>Food Product_BBQ Ribs</th>\n",
       "      <th>Food Product_Bacon-Wrapped Shrimp</th>\n",
       "      <th>Food Product_Baked Apple</th>\n",
       "      <th>...</th>\n",
       "      <th>Allergens_Soybeans</th>\n",
       "      <th>Allergens_Soybeans, Fish</th>\n",
       "      <th>Allergens_Wheat</th>\n",
       "      <th>Allergens_Wheat, Dairy</th>\n",
       "      <th>Allergens_Wheat, Dairy, Alcohol</th>\n",
       "      <th>Allergens_Wheat, Dairy, Cocoa</th>\n",
       "      <th>Allergens_Wheat, Dairy, Eggs</th>\n",
       "      <th>Allergens_Wheat, Dairy, Nuts</th>\n",
       "      <th>Allergens_Wheat, Pork, Dairy</th>\n",
       "      <th>Prediction_Does not contain</th>\n",
       "    </tr>\n",
       "  </thead>\n",
       "  <tbody>\n",
       "    <tr>\n",
       "      <th>0</th>\n",
       "      <td>0</td>\n",
       "      <td>0</td>\n",
       "      <td>0</td>\n",
       "      <td>0</td>\n",
       "      <td>0</td>\n",
       "      <td>0</td>\n",
       "      <td>0</td>\n",
       "      <td>0</td>\n",
       "      <td>0</td>\n",
       "      <td>0</td>\n",
       "      <td>...</td>\n",
       "      <td>0</td>\n",
       "      <td>0</td>\n",
       "      <td>0</td>\n",
       "      <td>0</td>\n",
       "      <td>0</td>\n",
       "      <td>0</td>\n",
       "      <td>0</td>\n",
       "      <td>0</td>\n",
       "      <td>0</td>\n",
       "      <td>0</td>\n",
       "    </tr>\n",
       "    <tr>\n",
       "      <th>2</th>\n",
       "      <td>0</td>\n",
       "      <td>0</td>\n",
       "      <td>0</td>\n",
       "      <td>0</td>\n",
       "      <td>0</td>\n",
       "      <td>0</td>\n",
       "      <td>0</td>\n",
       "      <td>0</td>\n",
       "      <td>0</td>\n",
       "      <td>0</td>\n",
       "      <td>...</td>\n",
       "      <td>0</td>\n",
       "      <td>0</td>\n",
       "      <td>0</td>\n",
       "      <td>0</td>\n",
       "      <td>0</td>\n",
       "      <td>0</td>\n",
       "      <td>0</td>\n",
       "      <td>0</td>\n",
       "      <td>0</td>\n",
       "      <td>0</td>\n",
       "    </tr>\n",
       "    <tr>\n",
       "      <th>4</th>\n",
       "      <td>0</td>\n",
       "      <td>0</td>\n",
       "      <td>0</td>\n",
       "      <td>0</td>\n",
       "      <td>0</td>\n",
       "      <td>0</td>\n",
       "      <td>0</td>\n",
       "      <td>0</td>\n",
       "      <td>0</td>\n",
       "      <td>0</td>\n",
       "      <td>...</td>\n",
       "      <td>0</td>\n",
       "      <td>0</td>\n",
       "      <td>0</td>\n",
       "      <td>0</td>\n",
       "      <td>0</td>\n",
       "      <td>0</td>\n",
       "      <td>0</td>\n",
       "      <td>0</td>\n",
       "      <td>0</td>\n",
       "      <td>0</td>\n",
       "    </tr>\n",
       "    <tr>\n",
       "      <th>5</th>\n",
       "      <td>0</td>\n",
       "      <td>0</td>\n",
       "      <td>0</td>\n",
       "      <td>0</td>\n",
       "      <td>0</td>\n",
       "      <td>0</td>\n",
       "      <td>0</td>\n",
       "      <td>0</td>\n",
       "      <td>0</td>\n",
       "      <td>0</td>\n",
       "      <td>...</td>\n",
       "      <td>0</td>\n",
       "      <td>0</td>\n",
       "      <td>0</td>\n",
       "      <td>0</td>\n",
       "      <td>0</td>\n",
       "      <td>0</td>\n",
       "      <td>0</td>\n",
       "      <td>0</td>\n",
       "      <td>0</td>\n",
       "      <td>0</td>\n",
       "    </tr>\n",
       "    <tr>\n",
       "      <th>6</th>\n",
       "      <td>0</td>\n",
       "      <td>0</td>\n",
       "      <td>0</td>\n",
       "      <td>0</td>\n",
       "      <td>0</td>\n",
       "      <td>0</td>\n",
       "      <td>0</td>\n",
       "      <td>0</td>\n",
       "      <td>0</td>\n",
       "      <td>0</td>\n",
       "      <td>...</td>\n",
       "      <td>0</td>\n",
       "      <td>0</td>\n",
       "      <td>0</td>\n",
       "      <td>0</td>\n",
       "      <td>0</td>\n",
       "      <td>0</td>\n",
       "      <td>0</td>\n",
       "      <td>0</td>\n",
       "      <td>0</td>\n",
       "      <td>0</td>\n",
       "    </tr>\n",
       "  </tbody>\n",
       "</table>\n",
       "<p>5 rows × 627 columns</p>\n",
       "</div>"
      ],
      "text/plain": [
       "   Food Product_Aloo Gobi  Food Product_Aloo Paratha  Food Product_Apple  \\\n",
       "0                       0                          0                   0   \n",
       "2                       0                          0                   0   \n",
       "4                       0                          0                   0   \n",
       "5                       0                          0                   0   \n",
       "6                       0                          0                   0   \n",
       "\n",
       "   Food Product_Apple Cider  Food Product_Apple Crisp  Food Product_Apple Pie  \\\n",
       "0                         0                         0                       0   \n",
       "2                         0                         0                       0   \n",
       "4                         0                         0                       0   \n",
       "5                         0                         0                       0   \n",
       "6                         0                         0                       0   \n",
       "\n",
       "   Food Product_Avocado Toast  Food Product_BBQ Ribs  \\\n",
       "0                           0                      0   \n",
       "2                           0                      0   \n",
       "4                           0                      0   \n",
       "5                           0                      0   \n",
       "6                           0                      0   \n",
       "\n",
       "   Food Product_Bacon-Wrapped Shrimp  Food Product_Baked Apple  ...  \\\n",
       "0                                  0                         0  ...   \n",
       "2                                  0                         0  ...   \n",
       "4                                  0                         0  ...   \n",
       "5                                  0                         0  ...   \n",
       "6                                  0                         0  ...   \n",
       "\n",
       "   Allergens_Soybeans  Allergens_Soybeans, Fish  Allergens_Wheat  \\\n",
       "0                   0                         0                0   \n",
       "2                   0                         0                0   \n",
       "4                   0                         0                0   \n",
       "5                   0                         0                0   \n",
       "6                   0                         0                0   \n",
       "\n",
       "   Allergens_Wheat, Dairy  Allergens_Wheat, Dairy, Alcohol  \\\n",
       "0                       0                                0   \n",
       "2                       0                                0   \n",
       "4                       0                                0   \n",
       "5                       0                                0   \n",
       "6                       0                                0   \n",
       "\n",
       "   Allergens_Wheat, Dairy, Cocoa  Allergens_Wheat, Dairy, Eggs  \\\n",
       "0                              0                             0   \n",
       "2                              0                             0   \n",
       "4                              0                             0   \n",
       "5                              0                             0   \n",
       "6                              0                             0   \n",
       "\n",
       "   Allergens_Wheat, Dairy, Nuts  Allergens_Wheat, Pork, Dairy  \\\n",
       "0                             0                             0   \n",
       "2                             0                             0   \n",
       "4                             0                             0   \n",
       "5                             0                             0   \n",
       "6                             0                             0   \n",
       "\n",
       "   Prediction_Does not contain  \n",
       "0                            0  \n",
       "2                            0  \n",
       "4                            0  \n",
       "5                            0  \n",
       "6                            0  \n",
       "\n",
       "[5 rows x 627 columns]"
      ]
     },
     "execution_count": 29,
     "metadata": {},
     "output_type": "execute_result"
    }
   ],
   "source": [
    "# encoding the data i.e.converting categorical variable into dummy/indicator variables\n",
    "Encodeddata=pd.get_dummies(df, drop_first=True)\n",
    "Encodeddata.head()"
   ]
  },
  {
   "cell_type": "code",
   "execution_count": 30,
   "id": "58ffefb9",
   "metadata": {},
   "outputs": [],
   "source": [
    "# seperating independent and dependent features respectively for train_test_split\n",
    "X=Encodeddata.drop('Prediction_Does not contain', axis=1)\n",
    "y=Encodeddata['Prediction_Does not contain']"
   ]
  },
  {
   "cell_type": "code",
   "execution_count": 67,
   "id": "0aa701a0",
   "metadata": {},
   "outputs": [],
   "source": [
    "# import the required alogorithms from sklrean library to test the data from dataframe\n",
    "from sklearn.model_selection import train_test_split\n",
    "from sklearn.metrics import confusion_matrix\n",
    "from sklearn.tree import DecisionTreeClassifier\n",
    "from sklearn.ensemble import RandomForestClassifier\n",
    "from sklearn.linear_model import LogisticRegression\n",
    "from sklearn.model_selection import GridSearchCV\n",
    "from sklearn.svm import SVC\n",
    "from sklearn.neighbors import KNeighborsClassifier\n",
    "from sklearn.naive_bayes import GaussianNB\n"
   ]
  },
  {
   "cell_type": "markdown",
   "id": "1cacc2cf",
   "metadata": {},
   "source": [
    "### LOGISTIC REGRESSION"
   ]
  },
  {
   "cell_type": "code",
   "execution_count": 80,
   "id": "0580d593",
   "metadata": {},
   "outputs": [
    {
     "name": "stdout",
     "output_type": "stream",
     "text": [
      "score: 0.978494623655914\n",
      "[[59  2]\n",
      " [ 0 32]]\n"
     ]
    }
   ],
   "source": [
    "# LOGISTIC REGRESSION implementation\n",
    "\n",
    "# splitting into training and testing data\n",
    "X_train,X_test,y_train,y_test=train_test_split(X,y,test_size=0.3,random_state=20)\n",
    "\n",
    "# initialising the model, fitting train and test data, finding out the score and predicted values\n",
    "lr=LogisticRegression()\n",
    "lr.fit(X_train,y_train)\n",
    "lr_score=lr.score(X_test,y_test)\n",
    "print(\"score:\",lr_score);\n",
    "pred_values=lr.predict(X_test)\n",
    "\n",
    "# to print confusion matrix\n",
    "cm=confusion_matrix(y_test,pred_values)\n",
    "cm\n",
    "print(cm)"
   ]
  },
  {
   "cell_type": "markdown",
   "id": "add4844c",
   "metadata": {},
   "source": [
    "### DECISION TREE CLASSIFIER"
   ]
  },
  {
   "cell_type": "code",
   "execution_count": 81,
   "id": "f93ad336",
   "metadata": {},
   "outputs": [
    {
     "name": "stdout",
     "output_type": "stream",
     "text": [
      "Best Parameters: {'criterion': 'gini', 'max_depth': 10, 'min_samples_split': 5}\n",
      "Best Score: 0.9953488372093023\n",
      "Confusion Matrix for Best Model\n",
      "[[59  2]\n",
      " [ 0 32]]\n"
     ]
    }
   ],
   "source": [
    "#DECISION TREE CLASSIFIER\n",
    "\n",
    "# splitting into training and testing data\n",
    "X_train,X_test,y_train,y_test=train_test_split(X,y,test_size=0.3,random_state=20)\n",
    "\n",
    "# initialising the model by defining parameters\n",
    "dt = DecisionTreeClassifier()\n",
    "param_grid = {\n",
    "    'criterion': ['gini', 'entropy'],\n",
    "    'max_depth': [None, 5, 10],\n",
    "    'min_samples_split': [2, 5, 10]\n",
    "}\n",
    "\n",
    "# passing the parameters of model to gridsearch and fitting the data to it to find best parameters and best score\n",
    "dt_grid_search = GridSearchCV(estimator=dt, param_grid=param_grid, cv=5)\n",
    "dt_grid_search.fit(X_train, y_train)\n",
    "\n",
    "print(\"Best Parameters:\", dt_grid_search.best_params_)\n",
    "print(\"Best Score:\", dt_grid_search.best_score_)\n",
    "\n",
    "# to print the confusion matrix\n",
    "best_model = dt_grid_search.best_estimator_\n",
    "best_model.fit(X_train,y_train)\n",
    "y_pred = best_model.predict(X_test)\n",
    "dt_cm = confusion_matrix(y_test, y_pred)\n",
    "\n",
    "print(\"Confusion Matrix for Best Model\")\n",
    "print(dt_cm)"
   ]
  },
  {
   "cell_type": "markdown",
   "id": "b511c806",
   "metadata": {},
   "source": [
    "### RANDOM FOREST CLASSIFIER"
   ]
  },
  {
   "cell_type": "code",
   "execution_count": 83,
   "id": "31ce043f",
   "metadata": {},
   "outputs": [
    {
     "name": "stdout",
     "output_type": "stream",
     "text": [
      "Best Parameters: {'max_depth': None, 'min_samples_split': 2, 'n_estimators': 100}\n",
      "Best Score: 0.9953703703703703\n",
      "Confusion Matrix for Best Model\n",
      "[[56  4]\n",
      " [ 0 33]]\n"
     ]
    }
   ],
   "source": [
    "#RandomForest\n",
    "\n",
    "# splitting into training and testing data\n",
    "X_train,X_test,y_train,y_test=train_test_split(X,y,test_size=0.3,random_state=42)\n",
    "\n",
    "# initialising the model by defining parameters\n",
    "rf = RandomForestClassifier()\n",
    "rf_param_grid = {\n",
    "    'n_estimators': [100, 200, 300],\n",
    "    'max_depth': [None, 5, 10],\n",
    "    'min_samples_split': [2, 4, 10]\n",
    "}\n",
    "\n",
    "# passing the parameters of model to gridsearch and fitting the data to it to find best parameters and best score\n",
    "rf_grid_search = GridSearchCV(estimator=rf, param_grid=rf_param_grid, cv=4)\n",
    "rf_grid_search.fit(X_train, y_train)\n",
    "\n",
    "print(\"Best Parameters:\", rf_grid_search.best_params_)\n",
    "print(\"Best Score:\", rf_grid_search.best_score_)\n",
    "\n",
    "# to print the confusion matrix\n",
    "best_model = rf_grid_search.best_estimator_\n",
    "best_model.fit(X_train,y_train)\n",
    "y_pred = best_model.predict(X_test)\n",
    "rf_cm = confusion_matrix(y_test, y_pred)\n",
    "\n",
    "print(\"Confusion Matrix for Best Model\")\n",
    "print(rf_cm)"
   ]
  },
  {
   "cell_type": "markdown",
   "id": "04a0d89e",
   "metadata": {},
   "source": [
    "### GAUSSIAN NAIVE BAYES CLASSIFIER"
   ]
  },
  {
   "cell_type": "code",
   "execution_count": 84,
   "id": "82151737",
   "metadata": {},
   "outputs": [
    {
     "name": "stdout",
     "output_type": "stream",
     "text": [
      "Best Parameters: {'var_smoothing': 1e-09}\n",
      "Best Score: 0.9488372093023255\n",
      "Confusion Matrix for Best Model\n",
      "[[56  4]\n",
      " [ 2 31]]\n"
     ]
    }
   ],
   "source": [
    "#Guassian\n",
    "\n",
    "# splitting into training and testing data\n",
    "X_train, X_test, y_train, y_test = train_test_split(X, y, test_size=0.3, random_state=42)\n",
    "\n",
    "\n",
    "# initialising the model by defining parameters\n",
    "nb = GaussianNB()\n",
    "nb_param_grid = {\n",
    "    'var_smoothing': [1e-9, 1e-8, 1e-7]\n",
    "}\n",
    "\n",
    "# passing the parameters of model to gridsearch and fitting the data to it to find best parameters and best score\n",
    "nb_grid_search = GridSearchCV(estimator=nb, param_grid=nb_param_grid, cv=5)\n",
    "nb_grid_search.fit(X_train, y_train)\n",
    "\n",
    "\n",
    "print(\"Best Parameters:\", nb_grid_search.best_params_)\n",
    "print(\"Best Score:\", nb_grid_search.best_score_)\n",
    "\n",
    "# to print the confusion matrix\n",
    "best_model = nb_grid_search.best_estimator_\n",
    "best_model.fit(X_train,y_train)\n",
    "y_pred = best_model.predict(X_test)\n",
    "nb_cm = confusion_matrix(y_test, y_pred)\n",
    "\n",
    "print(\"Confusion Matrix for Best Model\")\n",
    "print(nb_cm)"
   ]
  },
  {
   "cell_type": "markdown",
   "id": "3c1ff5c2",
   "metadata": {},
   "source": [
    "### SUPPORT VECTOR CLASSIFIER"
   ]
  },
  {
   "cell_type": "code",
   "execution_count": 85,
   "id": "a34900ef",
   "metadata": {},
   "outputs": [
    {
     "name": "stdout",
     "output_type": "stream",
     "text": [
      "Best_param {'C': 1, 'kernel': 'linear'}\n",
      "score: 0.9953488372093023\n"
     ]
    }
   ],
   "source": [
    "#svc\n",
    "\n",
    "# splitting into training and testing data\n",
    "X_train, X_test, y_train, y_test = train_test_split(X, y, test_size=0.3, random_state=42)\n",
    "\n",
    "# initialising the model by defining parameters\n",
    "sv=SVC()\n",
    "parameters = {\n",
    "              'kernel':['linear','poly','rbf','sigmoid'],\n",
    "              'C':[1, 5, 10, 20]\n",
    "}\n",
    "\n",
    "# to print the confusion matrix\n",
    "sv_gd=GridSearchCV(sv,parameters,cv=5)\n",
    "sv_gd.fit(X_train,y_train)\n",
    "\n",
    "print(\"Best_param\",sv_gd.best_params_)\n",
    "print(\"score:\",sv_gd.best_score_)"
   ]
  },
  {
   "cell_type": "markdown",
   "id": "1a11ec25",
   "metadata": {},
   "source": [
    "### KNEIGHBORS CLASSIFIER"
   ]
  },
  {
   "cell_type": "code",
   "execution_count": 86,
   "id": "98b8938c",
   "metadata": {},
   "outputs": [
    {
     "name": "stdout",
     "output_type": "stream",
     "text": [
      "score: 0.8924731182795699\n",
      "[[50  0]\n",
      " [10 33]]\n"
     ]
    }
   ],
   "source": [
    "#knn\n",
    "\n",
    "# splitting into training and testing data\n",
    "X_train, X_test, y_train, y_test = train_test_split(X, y, test_size=0.3, random_state=42)\n",
    "\n",
    "# initialising the model \n",
    "kn=KNeighborsClassifier()\n",
    "kn.fit(X_train,y_train)\n",
    "\n",
    "# to print the score of model\n",
    "kn_score=kn.score(X_test,y_test)\n",
    "print(\"score:\", kn_score)\n",
    "\n",
    "# to print the confusion matrix\n",
    "y_pred=kn.predict(X_test)\n",
    "kn_cm=confusion_matrix(y_pred,y_test)\n",
    "print(kn_cm)"
   ]
  },
  {
   "cell_type": "code",
   "execution_count": 87,
   "id": "ed64c760",
   "metadata": {},
   "outputs": [
    {
     "data": {
      "text/html": [
       "<div>\n",
       "<style scoped>\n",
       "    .dataframe tbody tr th:only-of-type {\n",
       "        vertical-align: middle;\n",
       "    }\n",
       "\n",
       "    .dataframe tbody tr th {\n",
       "        vertical-align: top;\n",
       "    }\n",
       "\n",
       "    .dataframe thead th {\n",
       "        text-align: right;\n",
       "    }\n",
       "</style>\n",
       "<table border=\"1\" class=\"dataframe\">\n",
       "  <thead>\n",
       "    <tr style=\"text-align: right;\">\n",
       "      <th></th>\n",
       "      <th>Model_Name</th>\n",
       "      <th>Score</th>\n",
       "    </tr>\n",
       "  </thead>\n",
       "  <tbody>\n",
       "    <tr>\n",
       "      <th>0</th>\n",
       "      <td>Random Forest</td>\n",
       "      <td>0.995370</td>\n",
       "    </tr>\n",
       "    <tr>\n",
       "      <th>1</th>\n",
       "      <td>Decision Tree</td>\n",
       "      <td>0.995349</td>\n",
       "    </tr>\n",
       "    <tr>\n",
       "      <th>2</th>\n",
       "      <td>K Neighbors</td>\n",
       "      <td>0.892473</td>\n",
       "    </tr>\n",
       "    <tr>\n",
       "      <th>3</th>\n",
       "      <td>SVC</td>\n",
       "      <td>0.995349</td>\n",
       "    </tr>\n",
       "    <tr>\n",
       "      <th>4</th>\n",
       "      <td>Logistic Regression</td>\n",
       "      <td>0.978495</td>\n",
       "    </tr>\n",
       "    <tr>\n",
       "      <th>5</th>\n",
       "      <td>GuassianNB</td>\n",
       "      <td>0.948837</td>\n",
       "    </tr>\n",
       "  </tbody>\n",
       "</table>\n",
       "</div>"
      ],
      "text/plain": [
       "            Model_Name     Score\n",
       "0        Random Forest  0.995370\n",
       "1        Decision Tree  0.995349\n",
       "2          K Neighbors  0.892473\n",
       "3                 SVC   0.995349\n",
       "4  Logistic Regression  0.978495\n",
       "5           GuassianNB  0.948837"
      ]
     },
     "execution_count": 87,
     "metadata": {},
     "output_type": "execute_result"
    }
   ],
   "source": [
    "#scorestable\n",
    "\n",
    "score={\n",
    "       'Model_Name' : ['Random Forest','Decision Tree','K Neighbors','SVC ','Logistic Regression','GuassianNB'],\n",
    "       'Score'   : [rf_grid_search.best_score_,dt_grid_search.best_score_,kn_score,sv_gd.best_score_,lr_score, nb_grid_search.best_score_]\n",
    "        }\n",
    "  \n",
    "\n",
    "score_df= pd.DataFrame(score)\n",
    "score_df"
   ]
  },
  {
   "cell_type": "code",
   "execution_count": 88,
   "id": "2af2a433",
   "metadata": {},
   "outputs": [
    {
     "data": {
      "image/png": "[encoded data removed]",
      "text/plain": [
       "<Figure size 800x500 with 1 Axes>"
      ]
     },
     "metadata": {},
     "output_type": "display_data"
    }
   ],
   "source": [
    "#plot\n",
    "\n",
    "import matplotlib.pyplot as plt\n",
    "\n",
    "fig = plt.figure(figsize = (8, 5))\n",
    "barplot = plt.bar(score_df.Model_Name, score_df.Score,color =['red', 'yellow', 'pink', 'cyan','green','blue'] ,edgecolor = \"black\", width = 0.25)\n",
    "plt.bar_label(barplot , labels= round(score_df.Score,5), label_type='center')\n",
    "plt.xlabel(\"Model Name\")\n",
    "plt.ylabel(\"Score\")\n",
    "plt.title(\"MODEL AND THEIR SCORES\")\n",
    "plt.show()"
   ]
  },
  {
   "cell_type": "markdown",
   "id": "80c9f75d",
   "metadata": {},
   "source": [
    "### After analysing, processing of data evaluating the speed and training time of each model and from the scores of model we can conclude that RandomForest classifier is of high accuracy and best perfomance among all ofcourse Decision Tree and SVC are also giving the best score on predicting the data\n",
    "\n"
   ]
  },
  {
   "cell_type": "code",
   "execution_count": null,
   "id": "8f76155c",
   "metadata": {},
   "outputs": [],
   "source": []
  }
 ],
 "metadata": {
  "kernelspec": {
   "display_name": "Python 3 (ipykernel)",
   "language": "python",
   "name": "python3"
  },
  "language_info": {
   "codemirror_mode": {
    "name": "ipython",
    "version": 3
   },
   "file_extension": ".py",
   "mimetype": "text/x-python",
   "name": "python",
   "nbconvert_exporter": "python",
   "pygments_lexer": "ipython3",
   "version": "3.10.9"
  }
 },
 "nbformat": 4,
 "nbformat_minor": 5
}
